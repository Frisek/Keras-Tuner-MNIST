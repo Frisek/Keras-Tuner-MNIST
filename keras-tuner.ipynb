{
 "cells": [
  {
   "cell_type": "markdown",
   "metadata": {
    "id": "FSJH2HrzcRtl"
   },
   "source": [
    "### Keras Tuner con el problema MNIST\n",
    "\n",
    "Keras Tuner es una librería bastante reciente que simplifica en gran medida el ajuste de los hiperparámetros de una red neuronal. Toda la documentación en este enlace:\n",
    "\n",
    "https://keras-team.github.io/keras-tuner/"
   ]
  },
  {
   "cell_type": "code",
   "execution_count": 2,
   "metadata": {
    "colab": {
     "base_uri": "https://localhost:8080/"
    },
    "executionInfo": {
     "elapsed": 19521,
     "status": "ok",
     "timestamp": 1657216156283,
     "user": {
      "displayName": "Luis Lago",
      "userId": "15983579116795900663"
     },
     "user_tz": -120
    },
    "id": "frKu1s3FcYRE",
    "outputId": "b23681e0-05a0-4f57-ee5d-c48cbf54ef66"
   },
   "outputs": [],
   "source": [
    "!pip install -q -U keras-tuner\n",
    "import kerastuner as kt"
   ]
  },
  {
   "cell_type": "markdown",
   "metadata": {
    "id": "xGFO0vTCc8ki"
   },
   "source": [
    "Carga de los datos:"
   ]
  },
  {
   "cell_type": "code",
   "execution_count": 3,
   "metadata": {
    "id": "vjbwVPiUdEJB"
   },
   "outputs": [],
   "source": [
    "import tensorflow as tf\n",
    "from tensorflow import keras\n",
    "\n",
    "import numpy as np\n",
    "import matplotlib.pyplot as plt\n",
    "from time import time\n",
    "import shutil"
   ]
  },
  {
   "cell_type": "code",
   "execution_count": 4,
   "metadata": {
    "colab": {
     "base_uri": "https://localhost:8080/"
    },
    "executionInfo": {
     "elapsed": 953,
     "status": "ok",
     "timestamp": 1657216157226,
     "user": {
      "displayName": "Luis Lago",
      "userId": "15983579116795900663"
     },
     "user_tz": -120
    },
    "id": "Nzz8BdOUcbne",
    "outputId": "ad622854-79f0-43c2-f3ef-9691d14f6182"
   },
   "outputs": [
    {
     "name": "stdout",
     "output_type": "stream",
     "text": [
      "Downloading data from https://storage.googleapis.com/tensorflow/tf-keras-datasets/mnist.npz\n",
      "11490434/11490434 [==============================] - 1s 0us/step\n"
     ]
    }
   ],
   "source": [
    "(img_train, label_train), (img_test, label_test) = keras.datasets.mnist.load_data()"
   ]
  },
  {
   "cell_type": "markdown",
   "metadata": {
    "id": "2n5UXqbddNQs"
   },
   "source": [
    "Normalización:"
   ]
  },
  {
   "cell_type": "code",
   "execution_count": 5,
   "metadata": {
    "id": "IQoq8ktJc-3h"
   },
   "outputs": [],
   "source": [
    "img_train = img_train.astype('float32') / 255.0\n",
    "img_test = img_test.astype('float32') / 255.0"
   ]
  },
  {
   "cell_type": "markdown",
   "metadata": {
    "id": "rPWPjsHHdVz_"
   },
   "source": [
    "Lo primero que hay que hacer es definir un hipermodelo, que es una función que genera un modelo de Keras que depende de unos hiperparámetros con los que vamos a jugar. Los hiperparámetros se muestrean a partir del argumento ``hp`` de la función.\n",
    "\n",
    "En este ejemplo sólo vamos a ajustar la constante de regularización de la capa oculta:"
   ]
  },
  {
   "cell_type": "code",
   "execution_count": 6,
   "metadata": {
    "id": "f5IC7NNWdPl7"
   },
   "outputs": [],
   "source": [
    "def model_builder(hp):\n",
    "  hp_lambda = hp.Choice('lambda', values = [1.0, 0.1, 0.01, 0.001, 0.0001]) \n",
    "  hp_lr = hp.Choice('lr', values = [1.0, 0.1, 0.01, 0.001, 0.0001]) \n",
    "  \n",
    "  model = keras.Sequential()\n",
    "  model.add(keras.layers.Flatten(input_shape=(28, 28)))\n",
    "  model.add(keras.layers.Dense(units = 50, activation = 'relu', kernel_regularizer=keras.regularizers.l2(hp_lambda)))\n",
    "  model.add(keras.layers.Dense(10, activation=\"softmax\"))\n",
    "\n",
    "  model.compile(optimizer=keras.optimizers.Adam(learning_rate=hp_lr), \n",
    "                loss='sparse_categorical_crossentropy',\n",
    "                metrics=['acc'])    \n",
    "  \n",
    "  return model"
   ]
  },
  {
   "cell_type": "markdown",
   "metadata": {
    "id": "cuDc21Ywiw54"
   },
   "source": [
    "Borramos el directorio de logs:"
   ]
  },
  {
   "cell_type": "code",
   "execution_count": 7,
   "metadata": {
    "id": "7DZu0e-ODexK"
   },
   "outputs": [],
   "source": [
    "!rm -rf my_dir/intro_to_kt/"
   ]
  },
  {
   "cell_type": "markdown",
   "metadata": {
    "id": "tpih_C7gfIfs"
   },
   "source": [
    "Lo siguiente es crear un ``tuner`` para hacer el ajuste de los hiperparámetros. Existen distintos tipos:\n",
    "\n",
    "- RandomSearch\n",
    "- Hyperband\n",
    "- BayesianOptimization\n",
    "- Sklearn\n",
    "\n",
    "Lo más fácil es hacer una búsqueda aleatoria con ``RandomSearch``. Al crear el ``tuner`` hay que especificar:\n",
    "\n",
    "- El hipermodelo.\n",
    "- La variable a optimizar.\n",
    "- El número total de pruebas.\n",
    "- El número de ejecuciones por prueba."
   ]
  },
  {
   "cell_type": "code",
   "execution_count": 8,
   "metadata": {
    "id": "-Ro9f8hEhjMP"
   },
   "outputs": [],
   "source": [
    "tuner = kt.RandomSearch(model_builder, \n",
    "                        objective='val_acc',\n",
    "                        max_trials=10,\n",
    "                        executions_per_trial=3,\n",
    "                        directory='my_dir',\n",
    "                        project_name='intro_to_kt')"
   ]
  },
  {
   "cell_type": "markdown",
   "metadata": {
    "id": "x_3DHrn5jFad"
   },
   "source": [
    "Un resumen del espacio de búsqueda:"
   ]
  },
  {
   "cell_type": "code",
   "execution_count": 9,
   "metadata": {
    "colab": {
     "base_uri": "https://localhost:8080/"
    },
    "executionInfo": {
     "elapsed": 383,
     "status": "ok",
     "timestamp": 1657122324920,
     "user": {
      "displayName": "Luis Lago",
      "userId": "15983579116795900663"
     },
     "user_tz": -120
    },
    "id": "xrhSs7GfiGMa",
    "outputId": "eaea9861-48c1-43d9-d3fa-a3e39b845b40"
   },
   "outputs": [
    {
     "name": "stdout",
     "output_type": "stream",
     "text": [
      "Search space summary\n",
      "Default search space size: 2\n",
      "lambda (Choice)\n",
      "{'default': 1.0, 'conditions': [], 'values': [1.0, 0.1, 0.01, 0.001, 0.0001], 'ordered': True}\n",
      "lr (Choice)\n",
      "{'default': 1.0, 'conditions': [], 'values': [1.0, 0.1, 0.01, 0.001, 0.0001], 'ordered': True}\n"
     ]
    }
   ],
   "source": [
    "tuner.search_space_summary()"
   ]
  },
  {
   "cell_type": "markdown",
   "metadata": {
    "id": "YkzNlblxjKip"
   },
   "source": [
    "Y lanzamos la búsqueda:"
   ]
  },
  {
   "cell_type": "code",
   "execution_count": 10,
   "metadata": {
    "colab": {
     "base_uri": "https://localhost:8080/"
    },
    "executionInfo": {
     "elapsed": 253400,
     "status": "ok",
     "timestamp": 1657122580380,
     "user": {
      "displayName": "Luis Lago",
      "userId": "15983579116795900663"
     },
     "user_tz": -120
    },
    "id": "RI1mly4aiGJ-",
    "outputId": "9e78d550-de79-4383-afe8-9d1160f85cd3"
   },
   "outputs": [
    {
     "name": "stdout",
     "output_type": "stream",
     "text": [
      "Trial 10 Complete [00h 00m 17s]\n",
      "val_acc: 0.1092999999721845\n",
      "\n",
      "Best val_acc So Far: 0.8940999905268351\n",
      "Total elapsed time: 00h 02m 35s\n",
      "INFO:tensorflow:Oracle triggered exit\n"
     ]
    }
   ],
   "source": [
    "tuner.search(img_train, label_train,\n",
    "             epochs=1,\n",
    "             validation_data=(img_test, label_test))"
   ]
  },
  {
   "cell_type": "markdown",
   "metadata": {
    "id": "809PZQkKmfxV"
   },
   "source": [
    "Acceso al mejor modelo. Hay que tener en cuenta que ya está entrenado, y siempre es mejor reentrenarlo con todos los datos. "
   ]
  },
  {
   "cell_type": "code",
   "execution_count": 11,
   "metadata": {
    "colab": {
     "base_uri": "https://localhost:8080/"
    },
    "executionInfo": {
     "elapsed": 1384,
     "status": "ok",
     "timestamp": 1657122581759,
     "user": {
      "displayName": "Luis Lago",
      "userId": "15983579116795900663"
     },
     "user_tz": -120
    },
    "id": "m4UW2OlcmeF6",
    "outputId": "b8d71f3e-eeef-4639-fb76-a87d61acb420"
   },
   "outputs": [
    {
     "name": "stdout",
     "output_type": "stream",
     "text": [
      "313/313 [==============================] - 1s 1ms/step - loss: 0.7329 - acc: 0.8963\n"
     ]
    },
    {
     "data": {
      "text/plain": [
       "[0.732892632484436, 0.8963000178337097]"
      ]
     },
     "execution_count": 11,
     "metadata": {},
     "output_type": "execute_result"
    }
   ],
   "source": [
    "best_model = tuner.get_best_models()[0]\n",
    "best_model.evaluate(img_test, label_test)"
   ]
  },
  {
   "cell_type": "markdown",
   "metadata": {
    "id": "stB6fGYnnaS1"
   },
   "source": [
    "Resumen de los resultados:"
   ]
  },
  {
   "cell_type": "code",
   "execution_count": 12,
   "metadata": {
    "colab": {
     "base_uri": "https://localhost:8080/"
    },
    "executionInfo": {
     "elapsed": 392,
     "status": "ok",
     "timestamp": 1657122601320,
     "user": {
      "displayName": "Luis Lago",
      "userId": "15983579116795900663"
     },
     "user_tz": -120
    },
    "id": "I7f890friGFj",
    "outputId": "8e44ebc4-1fc5-459b-e2cd-833e667db122"
   },
   "outputs": [
    {
     "name": "stdout",
     "output_type": "stream",
     "text": [
      "Results summary\n",
      "Results in my_dir/intro_to_kt\n",
      "Showing 10 best trials\n",
      "Objective(name=\"val_acc\", direction=\"max\")\n",
      "\n",
      "Trial 08 summary\n",
      "Hyperparameters:\n",
      "lambda: 0.01\n",
      "lr: 0.0001\n",
      "Score: 0.8940999905268351\n",
      "\n",
      "Trial 04 summary\n",
      "Hyperparameters:\n",
      "lambda: 0.1\n",
      "lr: 0.001\n",
      "Score: 0.878766655921936\n",
      "\n",
      "Trial 03 summary\n",
      "Hyperparameters:\n",
      "lambda: 1.0\n",
      "lr: 0.01\n",
      "Score: 0.7130666573842367\n",
      "\n",
      "Trial 00 summary\n",
      "Hyperparameters:\n",
      "lambda: 0.01\n",
      "lr: 0.1\n",
      "Score: 0.5470999876658121\n",
      "\n",
      "Trial 06 summary\n",
      "Hyperparameters:\n",
      "lambda: 0.001\n",
      "lr: 0.1\n",
      "Score: 0.44673333565394086\n",
      "\n",
      "Trial 07 summary\n",
      "Hyperparameters:\n",
      "lambda: 0.0001\n",
      "lr: 0.1\n",
      "Score: 0.4156666696071625\n",
      "\n",
      "Trial 05 summary\n",
      "Hyperparameters:\n",
      "lambda: 0.001\n",
      "lr: 1.0\n",
      "Score: 0.11349999904632568\n",
      "\n",
      "Trial 02 summary\n",
      "Hyperparameters:\n",
      "lambda: 0.0001\n",
      "lr: 1.0\n",
      "Score: 0.10933333386977513\n",
      "\n",
      "Trial 09 summary\n",
      "Hyperparameters:\n",
      "lambda: 1.0\n",
      "lr: 0.1\n",
      "Score: 0.1092999999721845\n",
      "\n",
      "Trial 01 summary\n",
      "Hyperparameters:\n",
      "lambda: 1.0\n",
      "lr: 1.0\n",
      "Score: 0.1033000002304713\n"
     ]
    }
   ],
   "source": [
    "tuner.results_summary()"
   ]
  },
  {
   "cell_type": "markdown",
   "metadata": {
    "id": "dI4KzenznfeS"
   },
   "source": [
    "Obtenemos los parámetros del mejor modelo y lo reentrenamos:"
   ]
  },
  {
   "cell_type": "code",
   "execution_count": null,
   "metadata": {
    "colab": {
     "base_uri": "https://localhost:8080/"
    },
    "executionInfo": {
     "elapsed": 49475,
     "status": "ok",
     "timestamp": 1657122653046,
     "user": {
      "displayName": "Luis Lago",
      "userId": "15983579116795900663"
     },
     "user_tz": -120
    },
    "id": "AKbxSwP6iGDC",
    "outputId": "95184ea7-69f5-4136-c12e-b21eccc7853f"
   },
   "outputs": [
    {
     "name": "stdout",
     "output_type": "stream",
     "text": [
      "Epoch 1/10\n",
      "1875/1875 [==============================] - 4s 2ms/step - loss: 1.2569 - acc: 0.8025 - val_loss: 0.7202 - val_acc: 0.8941\n",
      "Epoch 2/10\n",
      "1875/1875 [==============================] - 3s 2ms/step - loss: 0.6427 - acc: 0.8974 - val_loss: 0.5566 - val_acc: 0.9073\n",
      "Epoch 3/10\n",
      "1875/1875 [==============================] - 4s 2ms/step - loss: 0.5378 - acc: 0.9071 - val_loss: 0.4915 - val_acc: 0.9161\n",
      "Epoch 4/10\n",
      "1875/1875 [==============================] - 5s 2ms/step - loss: 0.4882 - acc: 0.9113 - val_loss: 0.4548 - val_acc: 0.9167\n",
      "Epoch 5/10\n",
      "1875/1875 [==============================] - 4s 2ms/step - loss: 0.4578 - acc: 0.9160 - val_loss: 0.4320 - val_acc: 0.9186\n",
      "Epoch 6/10\n",
      "1777/1875 [===========================>..] - ETA: 0s - loss: 0.4365 - acc: 0.9175"
     ]
    }
   ],
   "source": [
    "best_hps = tuner.get_best_hyperparameters()[0]\n",
    "model = tuner.hypermodel.build(best_hps)\n",
    "model.fit(img_train, label_train, epochs = 10, validation_data = (img_test, label_test))"
   ]
  },
  {
   "cell_type": "markdown",
   "metadata": {
    "id": "6fXM2bnKoAd2"
   },
   "source": [
    "#### Otro ejemplo: \n",
    "\n",
    "Ajuste del learning rate, el parámetro de regularización y el número de neuronas en la capa oculta con un tuner de tipo hyperband.\n",
    "\n",
    "https://arxiv.org/pdf/1603.06560.pdf"
   ]
  },
  {
   "cell_type": "markdown",
   "metadata": {
    "id": "3B4EUcR_oXk7"
   },
   "source": [
    "Hipermodelo:"
   ]
  },
  {
   "cell_type": "code",
   "execution_count": null,
   "metadata": {
    "id": "KGY_10POqTGd"
   },
   "outputs": [],
   "source": [
    "def model_builder_2(hp):\n",
    "  hp_lambda = hp.Choice('lambda', values = [0.001, 0.0001]) \n",
    "  hp_units = hp.Int('units', min_value = 32, max_value = 128, step = 32)\n",
    "  hp_learning_rate = hp.Choice('learning_rate', values = [1.0, 0.1, 0.01, 0.001]) \n",
    "  \n",
    "  model = keras.Sequential()\n",
    "  model.add(keras.layers.Flatten(input_shape=(28, 28)))\n",
    "  model.add(keras.layers.Dense(units = hp_units, activation = 'relu', kernel_regularizer=keras.regularizers.l2(hp_lambda)))\n",
    "  model.add(keras.layers.Dense(10, activation=\"softmax\"))\n",
    "\n",
    "  model.compile(optimizer=keras.optimizers.Adam(learning_rate=hp_learning_rate), \n",
    "                loss='sparse_categorical_crossentropy',\n",
    "                metrics=['acc'])    \n",
    "  \n",
    "  return model"
   ]
  },
  {
   "cell_type": "markdown",
   "metadata": {
    "id": "9tdO2SfvqoeE"
   },
   "source": [
    "Borramos la carpeta de logs:"
   ]
  },
  {
   "cell_type": "code",
   "execution_count": null,
   "metadata": {
    "id": "3VyHbj5AqjCU"
   },
   "outputs": [],
   "source": [
    "!rm -rf my_dir/intro_hyperband/"
   ]
  },
  {
   "cell_type": "markdown",
   "metadata": {
    "id": "QmMlP-2Yq8XW"
   },
   "source": [
    "Creamos el tuner:"
   ]
  },
  {
   "cell_type": "code",
   "execution_count": null,
   "metadata": {
    "id": "E_Z2Q7U-qvxQ"
   },
   "outputs": [],
   "source": [
    "tuner = kt.Hyperband(model_builder_2,\n",
    "                     objective = 'val_acc', \n",
    "                     max_epochs = 10,\n",
    "                     factor = 3,\n",
    "                     directory = 'my_dir',\n",
    "                     project_name = 'intro_hyperband')  "
   ]
  },
  {
   "cell_type": "markdown",
   "metadata": {
    "id": "dZaE4k03riQ-"
   },
   "source": [
    "Resumen del espacio de búsqueda:"
   ]
  },
  {
   "cell_type": "code",
   "execution_count": null,
   "metadata": {
    "colab": {
     "base_uri": "https://localhost:8080/"
    },
    "executionInfo": {
     "elapsed": 10,
     "status": "ok",
     "timestamp": 1657122672488,
     "user": {
      "displayName": "Luis Lago",
      "userId": "15983579116795900663"
     },
     "user_tz": -120
    },
    "id": "7f5pJ8RarNSo",
    "outputId": "b3fed14c-d0ba-4fb1-e00c-0bc9eab30f5a"
   },
   "outputs": [
    {
     "name": "stdout",
     "output_type": "stream",
     "text": [
      "Search space summary\n",
      "Default search space size: 3\n",
      "lambda (Choice)\n",
      "{'default': 0.001, 'conditions': [], 'values': [0.001, 0.0001], 'ordered': True}\n",
      "units (Int)\n",
      "{'default': None, 'conditions': [], 'min_value': 32, 'max_value': 128, 'step': 32, 'sampling': None}\n",
      "learning_rate (Choice)\n",
      "{'default': 1.0, 'conditions': [], 'values': [1.0, 0.1, 0.01, 0.001], 'ordered': True}\n"
     ]
    }
   ],
   "source": [
    "tuner.search_space_summary()"
   ]
  },
  {
   "cell_type": "markdown",
   "metadata": {
    "id": "a9_pL4j_ruIh"
   },
   "source": [
    "Búsqueda:"
   ]
  },
  {
   "cell_type": "code",
   "execution_count": null,
   "metadata": {
    "colab": {
     "base_uri": "https://localhost:8080/"
    },
    "executionInfo": {
     "elapsed": 829589,
     "status": "ok",
     "timestamp": 1657123504048,
     "user": {
      "displayName": "Luis Lago",
      "userId": "15983579116795900663"
     },
     "user_tz": -120
    },
    "id": "Zb6u2IM9rkzP",
    "outputId": "23a11c5d-0884-42b5-e607-04b4f1039609"
   },
   "outputs": [
    {
     "name": "stdout",
     "output_type": "stream",
     "text": [
      "Trial 30 Complete [00h 01m 22s]\n",
      "val_acc: 0.5357999801635742\n",
      "\n",
      "Best val_acc So Far: 0.9764999747276306\n",
      "Total elapsed time: 00h 13m 49s\n",
      "INFO:tensorflow:Oracle triggered exit\n"
     ]
    }
   ],
   "source": [
    "tuner.search(img_train, label_train,\n",
    "             epochs=10,\n",
    "             validation_data=(img_test, label_test))"
   ]
  },
  {
   "cell_type": "markdown",
   "metadata": {
    "id": "jHnstDTNvlPv"
   },
   "source": [
    "Mejores hiperparámetros:"
   ]
  },
  {
   "cell_type": "code",
   "execution_count": null,
   "metadata": {
    "colab": {
     "base_uri": "https://localhost:8080/"
    },
    "executionInfo": {
     "elapsed": 433,
     "status": "ok",
     "timestamp": 1657123811822,
     "user": {
      "displayName": "Luis Lago",
      "userId": "15983579116795900663"
     },
     "user_tz": -120
    },
    "id": "am37bJ8kr5-Q",
    "outputId": "94543364-1d35-43b5-b62f-8dfacbe714b5"
   },
   "outputs": [
    {
     "data": {
      "text/plain": [
       "{'lambda': 0.0001,\n",
       " 'learning_rate': 0.001,\n",
       " 'tuner/bracket': 2,\n",
       " 'tuner/epochs': 10,\n",
       " 'tuner/initial_epoch': 4,\n",
       " 'tuner/round': 2,\n",
       " 'tuner/trial_id': '0012',\n",
       " 'units': 128}"
      ]
     },
     "execution_count": 18,
     "metadata": {},
     "output_type": "execute_result"
    }
   ],
   "source": [
    "best_hps = tuner.get_best_hyperparameters()[0]\n",
    "best_hps.values"
   ]
  },
  {
   "cell_type": "markdown",
   "metadata": {
    "id": "KGPm3eoNv059"
   },
   "source": [
    "Reentrenamiento del modelo:"
   ]
  },
  {
   "cell_type": "code",
   "execution_count": null,
   "metadata": {
    "colab": {
     "base_uri": "https://localhost:8080/"
    },
    "executionInfo": {
     "elapsed": 82750,
     "status": "ok",
     "timestamp": 1657123896886,
     "user": {
      "displayName": "Luis Lago",
      "userId": "15983579116795900663"
     },
     "user_tz": -120
    },
    "id": "twIEolPSuMFn",
    "outputId": "4372e534-4a18-4189-8597-4f4e8ab2c5a4"
   },
   "outputs": [
    {
     "name": "stdout",
     "output_type": "stream",
     "text": [
      "Epoch 1/10\n",
      "1875/1875 [==============================] - 7s 3ms/step - loss: 0.2827 - acc: 0.9256 - val_loss: 0.1594 - val_acc: 0.9610\n",
      "Epoch 2/10\n",
      "1875/1875 [==============================] - 6s 3ms/step - loss: 0.1469 - acc: 0.9654 - val_loss: 0.1417 - val_acc: 0.9650\n",
      "Epoch 3/10\n",
      "1875/1875 [==============================] - 6s 3ms/step - loss: 0.1189 - acc: 0.9735 - val_loss: 0.1205 - val_acc: 0.9729\n",
      "Epoch 4/10\n",
      "1875/1875 [==============================] - 6s 3ms/step - loss: 0.1031 - acc: 0.9792 - val_loss: 0.1157 - val_acc: 0.9745\n",
      "Epoch 5/10\n",
      "1875/1875 [==============================] - 6s 3ms/step - loss: 0.0953 - acc: 0.9822 - val_loss: 0.1129 - val_acc: 0.9726\n",
      "Epoch 6/10\n",
      "1875/1875 [==============================] - 6s 3ms/step - loss: 0.0892 - acc: 0.9840 - val_loss: 0.1126 - val_acc: 0.9755\n",
      "Epoch 7/10\n",
      "1875/1875 [==============================] - 6s 3ms/step - loss: 0.0844 - acc: 0.9851 - val_loss: 0.1127 - val_acc: 0.9758\n",
      "Epoch 8/10\n",
      "1875/1875 [==============================] - 6s 3ms/step - loss: 0.0809 - acc: 0.9863 - val_loss: 0.1089 - val_acc: 0.9767\n",
      "Epoch 9/10\n",
      "1875/1875 [==============================] - 6s 3ms/step - loss: 0.0753 - acc: 0.9885 - val_loss: 0.1095 - val_acc: 0.9774\n",
      "Epoch 10/10\n",
      "1875/1875 [==============================] - 6s 3ms/step - loss: 0.0756 - acc: 0.9870 - val_loss: 0.1108 - val_acc: 0.9781\n"
     ]
    },
    {
     "data": {
      "text/plain": [
       "<keras.callbacks.History at 0x7f63d960ecd0>"
      ]
     },
     "execution_count": 19,
     "metadata": {},
     "output_type": "execute_result"
    }
   ],
   "source": [
    "model = tuner.hypermodel.build(best_hps)\n",
    "model.fit(img_train, label_train, epochs = 10, validation_data = (img_test, label_test))"
   ]
  },
  {
   "cell_type": "markdown",
   "metadata": {
    "id": "XxTfzMnKO0-t"
   },
   "source": [
    "### Ejercicio:\n",
    "\n",
    "Usando el dataset Breast Cancer Wisconsin que utilizamos en el notebook ``03_log_reg_exercise.ipynb``, entrena una red neuronal para predecir el valor de la variable objetivo ``t`` optimizando los siguientes hiperparámetros:\n",
    "\n",
    "- Número de unidades en la capa oculta. \n",
    "- Learning rate.\n",
    "- Parámetro de regularización. \n",
    "- Función de activación en la capa oculta.\n",
    "- Optimizador.\n",
    "\n",
    "¿Cómo se podría optimizar el número de capas ocultas?"
   ]
  }
 ],
 "metadata": {
  "colab": {
   "name": "10_keras-tuner.ipynb",
   "provenance": [],
   "toc_visible": true
  },
  "kernelspec": {
   "display_name": "Python 3",
   "language": "python",
   "name": "python3"
  },
  "language_info": {
   "codemirror_mode": {
    "name": "ipython",
    "version": 3
   },
   "file_extension": ".py",
   "mimetype": "text/x-python",
   "name": "python",
   "nbconvert_exporter": "python",
   "pygments_lexer": "ipython3",
   "version": "3.8.8"
  }
 },
 "nbformat": 4,
 "nbformat_minor": 1
}
